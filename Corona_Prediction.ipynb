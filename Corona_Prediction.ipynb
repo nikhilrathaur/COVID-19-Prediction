{
  "nbformat": 4,
  "nbformat_minor": 0,
  "metadata": {
    "colab": {
      "name": "Corona_Prediction.ipynb",
      "provenance": [],
      "collapsed_sections": []
    },
    "kernelspec": {
      "name": "python3",
      "display_name": "Python 3"
    }
  },
  "cells": [
    {
      "cell_type": "code",
      "metadata": {
        "id": "XntWdnLUiFbK",
        "colab_type": "code",
        "colab": {}
      },
      "source": [
        "import pandas as pd\n",
        "import numpy as np\n",
        "%matplotlib inline\n",
        "\n",
        "from sklearn.metrics import mean_squared_log_error\n",
        "from sklearn.ensemble import RandomForestRegressor\n",
        "from lightgbm import LGBMRegressor"
      ],
      "execution_count": 0,
      "outputs": []
    },
    {
      "cell_type": "code",
      "metadata": {
        "id": "bSIn87soienD",
        "colab_type": "code",
        "colab": {}
      },
      "source": [
        "data = pd.read_csv('/content/confirmed.csv')\n",
        "data.head()"
      ],
      "execution_count": 0,
      "outputs": []
    },
    {
      "cell_type": "code",
      "metadata": {
        "id": "Zeofd6yovHB4",
        "colab_type": "code",
        "colab": {}
      },
      "source": [
        "l = list(range(1, 65))\n",
        "len(l)"
      ],
      "execution_count": 0,
      "outputs": []
    },
    {
      "cell_type": "code",
      "metadata": {
        "id": "bWJHZieAviI9",
        "colab_type": "code",
        "colab": {}
      },
      "source": [
        "from datetime import date \n",
        "  \n",
        "def numOfDays(date1, date2): \n",
        "    return (date2-date1).days \n",
        "      \n",
        "# Driver program \n",
        "date1 = date(2020, 1, 22) \n",
        "date2 = date(2020, 4, 2) \n",
        "print(numOfDays(date1, date2), \"days\") "
      ],
      "execution_count": 0,
      "outputs": []
    },
    {
      "cell_type": "code",
      "metadata": {
        "id": "h5_uMrfkit9n",
        "colab_type": "code",
        "colab": {}
      },
      "source": [
        "data = pd.read_csv('/content/confirmed.csv')\n",
        "data=data.drop(['Province/State', 'Country/Region','Lat', 'Long'], axis=1)\n",
        "\n",
        "data.columns = l\n",
        "data = data.reset_index()\n",
        "data[65]=0\n",
        "data[66]=0\n",
        "data[67]=0\n",
        "data[68]=0\n",
        "data[69]=0\n",
        "data[70]=0\n",
        "data[71]=0\n",
        "data[72]=0\n",
        "\n",
        "data.head()\n"
      ],
      "execution_count": 0,
      "outputs": []
    },
    {
      "cell_type": "code",
      "metadata": {
        "id": "PyUgszBsjrc8",
        "colab_type": "code",
        "colab": {}
      },
      "source": [
        "melt = data.melt(id_vars= 'index', var_name='Day', value_name='Cases')\n",
        "\n",
        "melt.tail()"
      ],
      "execution_count": 0,
      "outputs": []
    },
    {
      "cell_type": "code",
      "metadata": {
        "id": "3-XVKhErjebG",
        "colab_type": "code",
        "colab": {}
      },
      "source": [
        "melt2 = melt.copy()\n",
        "melt2['Last_Week_Cases'] = melt2.groupby(['index'])['Cases'].shift()\n",
        "melt2['Last_Week_Diff'] = melt2.groupby(['index'])['Last_Week_Cases'].diff()\n",
        "melt2 = melt2.dropna()\n",
        "melt2.tail()"
      ],
      "execution_count": 0,
      "outputs": []
    },
    {
      "cell_type": "code",
      "metadata": {
        "id": "C-vBN-J4pdIJ",
        "colab_type": "code",
        "colab": {}
      },
      "source": [
        "def rmsle(ytrue, ypred):\n",
        "    return np.sqrt(mean_squared_log_error(ytrue, ypred))"
      ],
      "execution_count": 0,
      "outputs": []
    },
    {
      "cell_type": "code",
      "metadata": {
        "id": "gCuE0an5pi96",
        "colab_type": "code",
        "colab": {}
      },
      "source": [
        "mean_error = []\n",
        "for week in range(65,73):\n",
        "    train = melt2[melt2['Day'] < week]\n",
        "    val = melt2[melt2['Day'] == week]\n",
        "\n",
        "    p = val['Last_Week_Cases'].values\n"
      ],
      "execution_count": 0,
      "outputs": []
    },
    {
      "cell_type": "code",
      "metadata": {
        "id": "4clpSYsn6RjR",
        "colab_type": "code",
        "colab": {}
      },
      "source": [
        "for week in range(73,74):\n",
        "    train = melt2[melt2['Day'] < week]\n",
        "    val = melt2[melt2['Day'] == week]\n",
        "    print(week)\n",
        "\n",
        "    xtr, xts = train.drop(['Cases'], axis=1), val.drop(['Cases'], axis=1)\n",
        "    ytr, yts = train['Cases'].values, val['Cases'].values\n",
        "\n",
        "    mdl = RandomForestRegressor(n_estimators=1000, n_jobs=-1, random_state=0)\n",
        "    mdl.fit(xtr, ytr)\n",
        "\n",
        "    p = mdl.predict(xts)\n",
        "    li = list(map(float, p))\n",
        "    round_to_whole = [round(num) for num in li]\n",
        "    print(round_to_whole)\n",
        "    data[73]=round_to_whole\n",
        "    data.head()"
      ],
      "execution_count": 0,
      "outputs": []
    },
    {
      "cell_type": "code",
      "metadata": {
        "id": "WRBEa_Mwt7UL",
        "colab_type": "code",
        "colab": {}
      },
      "source": [
        "data.head()"
      ],
      "execution_count": 0,
      "outputs": []
    },
    {
      "cell_type": "code",
      "metadata": {
        "id": "mHmZAHP2_0pq",
        "colab_type": "code",
        "colab": {}
      },
      "source": [
        "data.to_excel(\"output.xlsx\") "
      ],
      "execution_count": 0,
      "outputs": []
    }
  ]
}